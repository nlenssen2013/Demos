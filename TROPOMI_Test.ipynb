{
 "cells": [
  {
   "cell_type": "code",
   "execution_count": null,
   "id": "ba0e100a",
   "metadata": {},
   "outputs": [],
   "source": [
    "import os\n",
    "from podaac.subsetter.subset import subset, transform_grouped_dataset\n",
    "from podaac.subsetter.dimension_cleanup import remove_duplicate_dims\n",
    "from shutil import copy\n",
    "import numpy as np\n",
    "import xarray as xr\n",
    "import netCDF4 as nc4"
   ]
  },
  {
   "cell_type": "code",
   "execution_count": null,
   "id": "71639047",
   "metadata": {},
   "outputs": [],
   "source": [
    "# Copy the original granule for input file and set the output filename in same directory\n",
    "\n",
    "my_path = '/home/nlensse1/Desktop/PyDev/PI22.3.5/l2ss-py/'\n",
    "def set_fnames(collection,granule,fmt):\n",
    "    dirname = my_path+'tests/data'\n",
    "    path = dirname + '/' + collection + '/'\n",
    "    forig = path + granule\n",
    "    finput = path + 'input.' + fmt\n",
    "    foutput = path + 'output.' + fmt\n",
    "    copy(forig,finput)\n",
    "    if os.path.isfile(foutput): \n",
    "        os.remove(foutput)\n",
    "    return(forig,finput,foutput)"
   ]
  },
  {
   "cell_type": "markdown",
   "id": "30966176",
   "metadata": {},
   "source": [
    "## AER AI v1"
   ]
  },
  {
   "cell_type": "code",
   "execution_count": null,
   "id": "7dc70476",
   "metadata": {},
   "outputs": [],
   "source": [
    "forig,finput,foutput = set_fnames('TROPOMI/AER_AI_v1',\n",
    "                                  'S5P_OFFL_L2__AER_AI_20181231T235559_20190101T013729_06308_01_010202_20190106T232027.nc',\n",
    "                                  'nc')  \n",
    "\n",
    "bbox = np.asarray(((-180,180),(-90,90)))\n",
    "\n",
    "subset(finput,bbox,foutput) #, variables=variables)"
   ]
  },
  {
   "cell_type": "code",
   "execution_count": null,
   "id": "97b3accd",
   "metadata": {},
   "outputs": [],
   "source": [
    "forig,finput,foutput = set_fnames('TROPOMI/AER_AI_v1',\n",
    "                                  'S5P_OFFL_L2__AER_AI_20181231T235559_20190101T013729_06308_01_010202_20190106T232027.nc',\n",
    "                                  'nc')  \n",
    "\n",
    "bbox = np.asarray(((-180,180),(-10,10)))\n",
    "\n",
    "subset(finput,bbox,foutput) #, variables=variables)"
   ]
  },
  {
   "cell_type": "code",
   "execution_count": null,
   "id": "d6f3f047",
   "metadata": {},
   "outputs": [],
   "source": [
    "forig,finput,foutput = set_fnames('TROPOMI/AER_AI_v1',\n",
    "                                  'S5P_OFFL_L2__AER_AI_20181231T235559_20190101T013729_06308_01_010202_20190106T232027.nc',\n",
    "                                  'nc')  \n",
    "\n",
    "bbox = np.asarray(((-180,180),(-10,10)))\n",
    "variables = ['/PRODUCT/SUPPORT_DATA/INPUT_DATA/surface_classification']\n",
    "\n",
    "subset(finput,bbox,foutput, variables=variables)"
   ]
  },
  {
   "cell_type": "code",
   "execution_count": null,
   "id": "6abb19d4",
   "metadata": {},
   "outputs": [],
   "source": [
    "forig,finput,foutput = set_fnames('TROPOMI/AER_AI_v1',\n",
    "                                  'S5P_OFFL_L2__AER_AI_20181231T235559_20190101T013729_06308_01_010202_20190106T232027.nc',\n",
    "                                  'nc')  \n",
    "\n",
    "bbox = np.asarray(((-180,180),(-90,90)))\n",
    "variables = ['/PRODUCT/SUPPORT_DATA/INPUT_DATA/surface_classification']\n",
    "min_time='2019-01-01T00:00:00Z'\n",
    "max_time='2019-01-01T00:20:00Z'\n",
    "subset(finput,bbox,foutput, min_time=min_time, max_time=max_time, variables=variables)"
   ]
  },
  {
   "cell_type": "markdown",
   "id": "eac196b8",
   "metadata": {},
   "source": [
    "## AER_AI_HiR v2"
   ]
  },
  {
   "cell_type": "code",
   "execution_count": null,
   "id": "b534855a",
   "metadata": {},
   "outputs": [],
   "source": [
    "forig,finput,foutput = set_fnames('TROPOMI/AER_AI_HiR_v2',\n",
    "                                  'S5P_OFFL_L2__AER_AI_20210709T005859_20210709T024029_19361_02_020200_20210710T145100.nc',\n",
    "                                  'nc')  \n",
    "\n",
    "bbox = np.asarray(((-180,180),(-90,90)))\n",
    "\n",
    "subset(finput,bbox,foutput)"
   ]
  },
  {
   "cell_type": "code",
   "execution_count": null,
   "id": "219ffb02",
   "metadata": {},
   "outputs": [],
   "source": [
    "forig,finput,foutput = set_fnames('TROPOMI/AER_AI_HiR_v2',\n",
    "                                  'S5P_OFFL_L2__AER_AI_20210709T005859_20210709T024029_19361_02_020200_20210710T145100.nc',\n",
    "                                  'nc')  \n",
    "\n",
    "bbox = np.asarray(((-180,180),(-10,10)))\n",
    "\n",
    "subset(finput,bbox,foutput)"
   ]
  },
  {
   "cell_type": "code",
   "execution_count": null,
   "id": "085631b5",
   "metadata": {},
   "outputs": [],
   "source": [
    "forig,finput,foutput = set_fnames('TROPOMI/AER_AI_HiR_v2',\n",
    "                                  'S5P_OFFL_L2__AER_AI_20210709T005859_20210709T024029_19361_02_020200_20210710T145100.nc',\n",
    "                                  'nc')  \n",
    "\n",
    "bbox = np.asarray(((-180,180),(-90,90)))\n",
    "variables = ['/PRODUCT/SUPPORT_DATA/INPUT_DATA/surface_classification']\n",
    "subset(finput,bbox,foutput, variables=variables)"
   ]
  },
  {
   "cell_type": "code",
   "execution_count": null,
   "id": "f7b0e587",
   "metadata": {},
   "outputs": [],
   "source": [
    "forig,finput,foutput = set_fnames('TROPOMI/AER_AI_HiR_v2',\n",
    "                                  'S5P_OFFL_L2__AER_AI_20210709T005859_20210709T024029_19361_02_020200_20210710T145100.nc',\n",
    "                                  'nc')  \n",
    "\n",
    "\n",
    "bbox = np.asarray(((-180,180),(-90,90)))\n",
    "variables = ['/PRODUCT/SUPPORT_DATA/INPUT_DATA/surface_classification']\n",
    "min_time='2021-07-09T01:00:00Z'\n",
    "max_time='2021-07-09T01:50:00Z'\n",
    "subset(finput,bbox,foutput, min_time=min_time, max_time=max_time, variables=variables)"
   ]
  },
  {
   "cell_type": "markdown",
   "id": "c0880bc3",
   "metadata": {},
   "source": [
    "## CO___ v1"
   ]
  },
  {
   "cell_type": "code",
   "execution_count": null,
   "id": "a017ce1e",
   "metadata": {},
   "outputs": [],
   "source": [
    "forig,finput,foutput = set_fnames('TROPOMI',\n",
    "                                  'S5P_OFFL_L2__CO_____20181231T235559_20190101T013729_06308_01_010202_20190106T232010.nc',\n",
    "                                  'nc')  \n",
    "\n",
    "bbox = np.asarray(((-180,180),(-90,90)))\n",
    "\n",
    "subset(finput,bbox,foutput) #, variables=variables)"
   ]
  },
  {
   "cell_type": "code",
   "execution_count": null,
   "id": "7ad2905e",
   "metadata": {},
   "outputs": [],
   "source": [
    "forig,finput,foutput = set_fnames('TROPOMI',\n",
    "                                  'S5P_OFFL_L2__CO_____20181231T235559_20190101T013729_06308_01_010202_20190106T232010.nc',\n",
    "                                  'nc')  \n",
    "\n",
    "bbox = np.asarray(((-180,180),(-10,10)))\n",
    "\n",
    "subset(finput,bbox,foutput) #, variables=variables)"
   ]
  },
  {
   "cell_type": "code",
   "execution_count": null,
   "id": "7490283c",
   "metadata": {},
   "outputs": [],
   "source": [
    "forig,finput,foutput = set_fnames('TROPOMI',\n",
    "                                  'S5P_OFFL_L2__CO_____20181231T235559_20190101T013729_06308_01_010202_20190106T232010.nc',\n",
    "                                  'nc')  \n",
    "\n",
    "bbox = np.asarray(((-180,180),(-90,90)))\n",
    "variables = ['/PRODUCT/carbonmonoxide_total_column']\n",
    "min_time='2019-01-01T00:10:00Z'\n",
    "max_time='2019-01-01T00:50:00Z'\n",
    "subset(finput,bbox,foutput, min_time=min_time, max_time=max_time, variables=variables)"
   ]
  },
  {
   "cell_type": "markdown",
   "id": "417b762c",
   "metadata": {},
   "source": [
    "## CO____HiR v1"
   ]
  },
  {
   "cell_type": "code",
   "execution_count": null,
   "id": "2833e237",
   "metadata": {},
   "outputs": [],
   "source": [
    "forig,finput,foutput = set_fnames('TROPOMI/CO_HiR_v1',\n",
    "                                  '',\n",
    "                                  'nc')  \n",
    "\n",
    "bbox = np.asarray(((-180,180),(-90,90)))\n",
    "\n",
    "subset(finput,bbox,foutput)"
   ]
  },
  {
   "cell_type": "code",
   "execution_count": null,
   "id": "ab1f35a8",
   "metadata": {},
   "outputs": [],
   "source": [
    "forig,finput,foutput = set_fnames('TROPOMI/CO_HiR_v1',\n",
    "                                  '',\n",
    "                                  'nc')  \n",
    "\n",
    "bbox = np.asarray(((-180,180),(-10,10)))\n",
    "\n",
    "subset(finput,bbox,foutput)"
   ]
  },
  {
   "cell_type": "code",
   "execution_count": null,
   "id": "592c70eb",
   "metadata": {},
   "outputs": [],
   "source": [
    "forig,finput,foutput = set_fnames('TROPOMI/CO_HiR_v1',\n",
    "                                  '',\n",
    "                                  'nc')  \n",
    "\n",
    "bbox = np.asarray(((-180,180),(-90,90)))\n",
    "variables = ['/PRODUCT/carbonmonoxide_total_column']\n",
    "\n",
    "subset(finput,bbox,foutput, variables=variables)"
   ]
  },
  {
   "cell_type": "code",
   "execution_count": null,
   "id": "58083dce",
   "metadata": {},
   "outputs": [],
   "source": [
    "forig,finput,foutput = set_fnames('TROPOMI/CO_HiR_v1',\n",
    "                                  '',\n",
    "                                  'nc')  \n",
    "\n",
    "bbox = np.asarray(((-180,180),(-90,90)))\n",
    "variables = ['/PRODUCT/carbonmonoxide_total_column']\n",
    "min_time='2019-01-01T00:10:00Z'\n",
    "max_time='2019-01-01T00:50:00Z'\n",
    "subset(finput,bbox,foutput, min_time=min_time, max_time=max_time, variables=variables)"
   ]
  },
  {
   "cell_type": "markdown",
   "id": "b2432c46",
   "metadata": {},
   "source": [
    "## CO____HiR v2"
   ]
  },
  {
   "cell_type": "code",
   "execution_count": null,
   "id": "468bd238",
   "metadata": {},
   "outputs": [],
   "source": [
    "forig,finput,foutput = set_fnames('TROPOMI/CO_HiR_v2',\n",
    "                                  '',\n",
    "                                  'nc')  \n",
    "\n",
    "bbox = np.asarray(((-180,180),(-90,90)))\n",
    "\n",
    "subset(finput,bbox,foutput)"
   ]
  },
  {
   "cell_type": "code",
   "execution_count": null,
   "id": "d1e105e5",
   "metadata": {},
   "outputs": [],
   "source": [
    "forig,finput,foutput = set_fnames('TROPOMI/CO_HiR_v2',\n",
    "                                  '',\n",
    "                                  'nc')  \n",
    "\n",
    "bbox = np.asarray(((-180,180),(-10,10)))\n",
    "\n",
    "subset(finput,bbox,foutput)"
   ]
  },
  {
   "cell_type": "code",
   "execution_count": null,
   "id": "2156070b",
   "metadata": {},
   "outputs": [],
   "source": [
    "forig,finput,foutput = set_fnames('TROPOMI/CO_HiR_v2',\n",
    "                                  '',\n",
    "                                  'nc')  \n",
    "\n",
    "bbox = np.asarray(((-180,180),(-90,90)))\n",
    "variables = ['/PRODUCT/carbonmonoxide_total_column']\n",
    "subset(finput,bbox,foutput, variables=variables)"
   ]
  },
  {
   "cell_type": "code",
   "execution_count": null,
   "id": "39d21ab3",
   "metadata": {},
   "outputs": [],
   "source": [
    "forig,finput,foutput = set_fnames('TROPOMI/CO_HiR_v2',\n",
    "                                  '',\n",
    "                                  'nc')  \n",
    "\n",
    "bbox = np.asarray(((-180,180),(-90,90)))\n",
    "variables = ['/PRODUCT/carbonmonoxide_total_column']\n",
    "min_time='2019-01-01T00:10:00Z'\n",
    "max_time='2019-01-01T00:50:00Z'\n",
    "subset(finput,bbox,foutput, min_time=min_time, max_time=max_time, variables=variables)"
   ]
  },
  {
   "cell_type": "markdown",
   "id": "927f021c",
   "metadata": {},
   "source": [
    "## AER_LH v1"
   ]
  },
  {
   "cell_type": "code",
   "execution_count": null,
   "id": "2ed59131",
   "metadata": {},
   "outputs": [],
   "source": [
    "forig,finput,foutput = set_fnames('TROPOMI/AER_LH_v1',\n",
    "                                  'S5P_RPRO_L2__AER_LH_20181231T235500_20190101T013828_06308_01_010301_20190617T165835.nc',\n",
    "                                  'nc')  \n",
    "\n",
    "bbox = np.asarray(((-180,180),(-90,90)))\n",
    "\n",
    "subset(finput,bbox,foutput)"
   ]
  },
  {
   "cell_type": "code",
   "execution_count": null,
   "id": "20d8c409",
   "metadata": {},
   "outputs": [],
   "source": [
    "forig,finput,foutput = set_fnames('TROPOMI/AER_LH_v1',\n",
    "                                  'S5P_RPRO_L2__AER_LH_20181231T235500_20190101T013828_06308_01_010301_20190617T165835.nc',\n",
    "                                  'nc')  \n",
    "\n",
    "bbox = np.asarray(((-180,180),(-10,10)))\n",
    "\n",
    "subset(finput,bbox,foutput)"
   ]
  },
  {
   "cell_type": "code",
   "execution_count": null,
   "id": "a7eadc2d",
   "metadata": {},
   "outputs": [],
   "source": [
    "forig,finput,foutput = set_fnames('TROPOMI/AER_LH_v1',\n",
    "                                  'S5P_OFFL_L2__AER_LH_20200101T005246_20200101T023416_11487_01_010302_20200102T172630.nc',\n",
    "                                  'nc')  \n",
    "\n",
    "bbox = np.asarray(((-180,180),(-90,90)))\n",
    "variables = []\n",
    "\n",
    "subset(finput,bbox,foutput)"
   ]
  },
  {
   "cell_type": "code",
   "execution_count": null,
   "id": "e5dc17a6",
   "metadata": {},
   "outputs": [],
   "source": [
    "forig,finput,foutput = set_fnames('TROPOMI/AER_LH_v1',\n",
    "                                  '',\n",
    "                                  'nc')  \n",
    "\n",
    "bbox = np.asarray(((-180,180),(-90,90)))\n",
    "variables = []\n",
    "min_time='2019-01-01T00:10:00Z'\n",
    "max_time='2019-01-01T00:50:00Z'\n",
    "subset(finput,bbox,foutput, min_time=min_time, max_time=max_time, variables=variables)"
   ]
  },
  {
   "cell_type": "markdown",
   "id": "cf95b870",
   "metadata": {},
   "source": [
    "## AER_LH_HiR v1"
   ]
  },
  {
   "cell_type": "code",
   "execution_count": null,
   "id": "5999fb82",
   "metadata": {},
   "outputs": [],
   "source": [
    "forig,finput,foutput = set_fnames('TROPOMI/AER_LH_HiR_v1',\n",
    "                                  '',\n",
    "                                  'nc')  \n",
    "\n",
    "bbox = np.asarray(((-180,180),(-90,90)))\n",
    "\n",
    "subset(finput,bbox,foutput)"
   ]
  },
  {
   "cell_type": "code",
   "execution_count": null,
   "id": "69d305fe",
   "metadata": {},
   "outputs": [],
   "source": [
    "forig,finput,foutput = set_fnames('TROPOMI/AER_LH_HiR_v1',\n",
    "                                  '',\n",
    "                                  'nc')  \n",
    "\n",
    "bbox = np.asarray(((-180,180),(-90,90)))\n",
    "\n",
    "subset(finput,bbox,foutput)"
   ]
  },
  {
   "cell_type": "code",
   "execution_count": null,
   "id": "78061eca",
   "metadata": {},
   "outputs": [],
   "source": [
    "forig,finput,foutput = set_fnames('TROPOMI/AER_LH_HiR_v1',\n",
    "                                  '',\n",
    "                                  'nc')  \n",
    "\n",
    "bbox = np.asarray(((-180,180),(-90,90)))\n",
    "variables = []\n",
    "\n",
    "subset(finput,bbox,foutput, variables=variables)"
   ]
  },
  {
   "cell_type": "code",
   "execution_count": null,
   "id": "3a1c400c",
   "metadata": {},
   "outputs": [],
   "source": [
    "forig,finput,foutput = set_fnames('TROPOMI/AER_LH_HiR_v1',\n",
    "                                  '',\n",
    "                                  'nc')  \n",
    "\n",
    "bbox = np.asarray(((-180,180),(-90,90)))\n",
    "variables = []\n",
    "min_time='2019-01-01T00:10:00Z'\n",
    "max_time='2019-01-01T00:50:00Z'\n",
    "subset(finput,bbox,foutput, min_time=min_time, max_time=max_time, variables=variables)"
   ]
  },
  {
   "cell_type": "markdown",
   "id": "9d506077",
   "metadata": {},
   "source": [
    "## AER_LH_HiR v2"
   ]
  },
  {
   "cell_type": "code",
   "execution_count": null,
   "id": "6a9afdd0",
   "metadata": {},
   "outputs": [],
   "source": [
    "forig,finput,foutput = set_fnames('TROPOMI/AER_LH_HiR_v2',\n",
    "                                  '',\n",
    "                                  'nc')  \n",
    "\n",
    "bbox = np.asarray(((-180,180),(-90,90)))\n",
    "\n",
    "subset(finput,bbox,foutput)"
   ]
  },
  {
   "cell_type": "code",
   "execution_count": null,
   "id": "03178167",
   "metadata": {},
   "outputs": [],
   "source": [
    "forig,finput,foutput = set_fnames('TROPOMI/AER_LH_HiR_v2',\n",
    "                                  '',\n",
    "                                  'nc')  \n",
    "\n",
    "bbox = np.asarray(((-180,180),(-10,10)))\n",
    "\n",
    "subset(finput,bbox,foutput)"
   ]
  },
  {
   "cell_type": "code",
   "execution_count": null,
   "id": "de4fe891",
   "metadata": {},
   "outputs": [],
   "source": [
    "forig,finput,foutput = set_fnames('TROPOMI/AER_LH_HiR_v2',\n",
    "                                  '',\n",
    "                                  'nc')  \n",
    "\n",
    "bbox = np.asarray(((-180,180),(-90,90)))\n",
    "variables = []\n",
    "subset(finput,bbox,foutput, variables=variables)"
   ]
  },
  {
   "cell_type": "code",
   "execution_count": null,
   "id": "d46635fe",
   "metadata": {},
   "outputs": [],
   "source": [
    "forig,finput,foutput = set_fnames('TROPOMI/AER_LH_HiR_v2',\n",
    "                                  '',\n",
    "                                  'nc')  \n",
    "\n",
    "bbox = np.asarray(((-180,180),(-90,90)))\n",
    "variables = []\n",
    "min_time='2019-01-01T00:10:00Z'\n",
    "max_time='2019-01-01T00:50:00Z'\n",
    "subset(finput,bbox,foutput, min_time=min_time, max_time=max_time, variables=variables)"
   ]
  }
 ],
 "metadata": {
  "kernelspec": {
   "display_name": "Python 3 (ipykernel)",
   "language": "python",
   "name": "python3"
  },
  "language_info": {
   "codemirror_mode": {
    "name": "ipython",
    "version": 3
   },
   "file_extension": ".py",
   "mimetype": "text/x-python",
   "name": "python",
   "nbconvert_exporter": "python",
   "pygments_lexer": "ipython3",
   "version": "3.9.7"
  }
 },
 "nbformat": 4,
 "nbformat_minor": 5
}
