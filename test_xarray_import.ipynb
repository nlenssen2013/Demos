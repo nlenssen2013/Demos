{
 "cells": [
  {
   "cell_type": "code",
   "execution_count": 1,
   "id": "1b0bee79",
   "metadata": {},
   "outputs": [],
   "source": [
    "import os\n",
    "import podaac.subsetter.subset \n",
    "#import subset, transform_grouped_dataset\n",
    "from podaac.subsetter.dimension_cleanup import remove_duplicate_dims\n",
    "import shutil\n",
    "import numpy as np\n",
    "import xarray as xr\n",
    "import netCDF4 as nc4\n",
    "import random"
   ]
  },
  {
   "cell_type": "code",
   "execution_count": 6,
   "id": "9c54876e",
   "metadata": {},
   "outputs": [
    {
     "name": "stdout",
     "output_type": "stream",
     "text": [
      "{'_FillValue': -1e+30, 'Title': 'Time in TAI units', 'Units': 's', 'UniqueFieldDefinition': 'Aura-Shared', 'Offset': 0.0, 'ScaleFactor': 1.0, 'MissingValue': -1e+30, 'ValidRange': array([0.e+00, 1.e+10])}\n",
      "{'Title': 'Time in TAI units', 'Units': 's', 'UniqueFieldDefinition': 'Aura-Shared', 'Offset': 0.0, 'ScaleFactor': 1.0, 'MissingValue': -1e+30, 'ValidRange': array([0.e+00, 1.e+10])}\n"
     ]
    }
   ],
   "source": [
    "# 'OMI-Aura_L2-OMSO2_2020m0116t1207-o82471_v003-2020m0223t142939.he5',\n",
    "OMI_file_names = ['OMI-Aura_L2-OMBRO_2020m0116t1207-o82471_v003-2020m0116t182003.he5']\n",
    "setrand = random.randint(1,1000)\n",
    "OMI_copy_file = str(setrand)+'_OMI_copy_testing_1.he5'\n",
    "OMI_copy_file_2 = str(setrand)+'_OMI_copy_testing_2.he5'\n",
    "OMI_output_file = str(setrand)+'_OMI_output.he5'\n",
    "for i in OMI_file_names:\n",
    "    shutil.copyfile(os.path.join('tests/data','OMI', i),\n",
    "                    os.path.join('mytest', OMI_copy_file))\n",
    "    shutil.copyfile(os.path.join('tests/data','OMI', i),\n",
    "                    os.path.join('mytest', OMI_copy_file_2))\n",
    "    min_time='2020-01-16T12:30:00Z'\n",
    "    max_time='2020-01-16T12:40:00Z'\n",
    "    bbox = np.array(((-180, 180), (-90, 90)))\n",
    "    nc_dataset, has_groups = podaac.subsetter.subset.h5file_transform(os.path.join('mytest', OMI_copy_file))\n",
    "    args = {\n",
    "        'decode_coords': False,\n",
    "        'mask_and_scale': False,\n",
    "        'decode_times': False\n",
    "    }\n",
    "\n",
    "    with xr.open_dataset(\n",
    "            xr.backends.NetCDF4DataStore(nc_dataset),\n",
    "            **args\n",
    "    ) as input_dataset:\n",
    "        #print (dataset)\n",
    "        print (input_dataset['__HDFEOS__SWATHS__OMI Total Column Amount BrO__Geolocation Fields__Time'].attrs)\n",
    "    podaac.subsetter.subset.subset(\n",
    "        file_to_subset=os.path.join('mytest', OMI_copy_file_2),\n",
    "        bbox=bbox,\n",
    "        output_file=os.path.join('mytest', OMI_output_file),\n",
    "        min_time=min_time,\n",
    "        max_time=max_time\n",
    "    )\n",
    "    \n",
    "    output_ncdataset = nc4.Dataset(os.path.join('mytest', OMI_output_file))\n",
    "    cut_set = output_ncdataset.groups['HDFEOS'].groups['SWATHS'].groups['OMI Total Column Amount BrO'].groups['Geolocation Fields']\n",
    "    xrout_dataset = xr.open_dataset(xr.backends.NetCDF4DataStore(cut_set))\n",
    "    outattrs = xrout_dataset['Time'].attrs\n",
    "    "
   ]
  },
  {
   "cell_type": "code",
   "execution_count": null,
   "id": "9df603ab",
   "metadata": {},
   "outputs": [],
   "source": []
  }
 ],
 "metadata": {
  "kernelspec": {
   "display_name": "Python 3 (ipykernel)",
   "language": "python",
   "name": "python3"
  },
  "language_info": {
   "codemirror_mode": {
    "name": "ipython",
    "version": 3
   },
   "file_extension": ".py",
   "mimetype": "text/x-python",
   "name": "python",
   "nbconvert_exporter": "python",
   "pygments_lexer": "ipython3",
   "version": "3.9.7"
  }
 },
 "nbformat": 4,
 "nbformat_minor": 5
}
