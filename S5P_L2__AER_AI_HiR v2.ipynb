{
 "cells": [
  {
   "cell_type": "code",
   "execution_count": 1,
   "id": "33f5e5fb",
   "metadata": {},
   "outputs": [],
   "source": [
    "import os\n",
    "from podaac.subsetter.subset import subset, transform_grouped_dataset\n",
    "from podaac.subsetter.dimension_cleanup import remove_duplicate_dims\n",
    "from shutil import copy\n",
    "import numpy as np\n",
    "import xarray as xr\n",
    "import netCDF4 as nc4\n",
    "\n",
    "\n",
    "my_path = '/home/nlensse1/Desktop/PyDev/PI22.3.5/l2ss-py/'\n",
    "def set_fnames(collection,granule,fmt):\n",
    "    dirname = my_path+'tests/data'\n",
    "    path = dirname + '/' + collection + '/'\n",
    "    forig = path + granule\n",
    "    finput = path + 'input.' + fmt\n",
    "    foutput = path + 'output.' + fmt\n",
    "    copy(forig,finput)\n",
    "    if os.path.isfile(foutput): \n",
    "        os.remove(foutput)\n",
    "    return(forig,finput,foutput)"
   ]
  },
  {
   "cell_type": "code",
   "execution_count": 4,
   "id": "0c2909ca",
   "metadata": {},
   "outputs": [],
   "source": [
    "def load_xarray(foutput):\n",
    "    nc_dataset = nc4.Dataset(foutput)\n",
    "    nc_cut_set = nc_dataset.groups['PRODUCT']\n",
    "    xr_dataset = xr.open_dataset(xr.backends.NetCDF4DataStore(nc_cut_set))\n",
    "    for name, variable in xr_dataset.items():\n",
    "        print (name)\n",
    "    "
   ]
  },
  {
   "cell_type": "markdown",
   "id": "bca4139d",
   "metadata": {},
   "source": [
    "## S5P_L2__AER_AI_HiR v2"
   ]
  },
  {
   "cell_type": "code",
   "execution_count": 5,
   "id": "aaaa61c8",
   "metadata": {},
   "outputs": [
    {
     "name": "stdout",
     "output_type": "stream",
     "text": [
      "delta_time\n",
      "time_utc\n",
      "qa_value\n",
      "aerosol_index_354_388\n",
      "aerosol_index_340_380\n",
      "aerosol_index_354_388_precision\n",
      "aerosol_index_340_380_precision\n"
     ]
    }
   ],
   "source": [
    "forig,finput,foutput = set_fnames('TROPOMI/AER_AI_HiR_v2',\n",
    "                                  'S5P_OFFL_L2__AER_AI_20210709T005859_20210709T024029_19361_02_020200_20210710T145100.nc',\n",
    "                                  'nc')  \n",
    "\n",
    "bbox = np.asarray(((-180,180),(-90,90)))\n",
    "\n",
    "subset(finput,bbox,foutput)\n",
    "load_xarray(foutput)"
   ]
  },
  {
   "cell_type": "code",
   "execution_count": null,
   "id": "6c6e52bd",
   "metadata": {},
   "outputs": [],
   "source": [
    "forig,finput,foutput = set_fnames('TROPOMI/AER_AI_HiR_v2',\n",
    "                                  'S5P_OFFL_L2__AER_AI_20210709T005859_20210709T024029_19361_02_020200_20210710T145100.nc',\n",
    "                                  'nc')  \n",
    "\n",
    "bbox = np.asarray(((-180,180),(-10,10)))\n",
    "\n",
    "subset(finput,bbox,foutput)"
   ]
  },
  {
   "cell_type": "code",
   "execution_count": null,
   "id": "555fecda",
   "metadata": {},
   "outputs": [],
   "source": [
    "forig,finput,foutput = set_fnames('TROPOMI/AER_AI_HiR_v2',\n",
    "                                  'S5P_OFFL_L2__AER_AI_20210709T005859_20210709T024029_19361_02_020200_20210710T145100.nc',\n",
    "                                  'nc')  \n",
    "\n",
    "bbox = np.asarray(((-180,180),(-90,90)))\n",
    "variables = ['/PRODUCT/SUPPORT_DATA/INPUT_DATA/surface_classification']\n",
    "subset(finput,bbox,foutput, variables=variables)"
   ]
  },
  {
   "cell_type": "code",
   "execution_count": null,
   "id": "f0a4a39a",
   "metadata": {},
   "outputs": [],
   "source": [
    "forig,finput,foutput = set_fnames('TROPOMI/AER_AI_HiR_v2',\n",
    "                                  'S5P_OFFL_L2__AER_AI_20210709T005859_20210709T024029_19361_02_020200_20210710T145100.nc',\n",
    "                                  'nc')  \n",
    "\n",
    "\n",
    "bbox = np.asarray(((-180,180),(-90,90)))\n",
    "variables = ['/PRODUCT/SUPPORT_DATA/INPUT_DATA/surface_classification']\n",
    "min_time='2021-07-09T01:00:00Z'\n",
    "max_time='2021-07-09T01:50:00Z'\n",
    "subset(finput,bbox,foutput, min_time=min_time, max_time=max_time, variables=variables)"
   ]
  },
  {
   "cell_type": "code",
   "execution_count": null,
   "id": "6f11308e",
   "metadata": {},
   "outputs": [],
   "source": []
  }
 ],
 "metadata": {
  "kernelspec": {
   "display_name": "Python 3 (ipykernel)",
   "language": "python",
   "name": "python3"
  },
  "language_info": {
   "codemirror_mode": {
    "name": "ipython",
    "version": 3
   },
   "file_extension": ".py",
   "mimetype": "text/x-python",
   "name": "python",
   "nbconvert_exporter": "python",
   "pygments_lexer": "ipython3",
   "version": "3.9.7"
  }
 },
 "nbformat": 4,
 "nbformat_minor": 5
}
