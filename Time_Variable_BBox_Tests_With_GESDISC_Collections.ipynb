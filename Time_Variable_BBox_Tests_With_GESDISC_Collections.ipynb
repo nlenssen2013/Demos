{
 "cells": [
  {
   "cell_type": "markdown",
   "metadata": {},
   "source": [
    "# <center>Time+Variable+Bbox Subsets with GES DISC Collections</center>"
   ]
  },
  {
   "cell_type": "markdown",
   "metadata": {},
   "source": [
    "| Collection ID |  Short Name  |  Version  |  File Format  | Result\n",
    "|:-------------:|:------------:|:---------:|:-------------:|:-------------------------------|\n",
    "|C1233979242-GES_DISC| ACOS_L2_LITE_FP | 9r | NetCDF | WORKS (with caveats)\n",
    "|C1229679244-GES_DISC| OCO2_L2_LITE_FP | 10r | NetCDF | WORKS (with caveats)\n",
    "|C1236276783-GES_DISC| OCO3_L2_LITE_SIF | EarlyR | NetCDF | WORKS (with caveats)\n",
    "|C1220280439-GES_DISC| S5P_L2__CH4___ | 1   | NetCDF | Unable to determine time variable\n",
    "|C1236469823-GES_DISC| S5P_L2__SO2___HiR | 2 | NetCDF | Unable to determine time variable\n",
    "|C1232995291-GES_DISC| SNDRSNIML2CCPRET | 2 | NetCDF | Unable to differentiate between dimensions and variables \n",
    "|C1232998567-GES_DISC| SNDRJ1IML2CCPRET | 2 | NetCDF | Unable to differentiate between dimensions and variables \n",
    "|C1239396234-GES_DISC| TRPSDL2NH3CRSWCF | 1 | NetCDF | Data variable named \"x\" categorized as a longitude variable\n",
    "|C1239396233-GES_DISC| TRPSDL2COCRSWCF | 1 | NetCDF | Data variable named \"x\" categorized as a longitude variable\n",
    "|C1224136965-GES_DISC| GPM_2ADPR           | 06 | HDF5 | Could not determine coordinate variables\n",
    "|C1225808903-GES_DISC| GPM_2APRPSMT1SAPHIR | 06 | HDF5 | Could not determine coordinate variables\n",
    "|C1234666374-GES_DISC| ML2T | 005 | HDFEOS5 | Segmentation Fault\n",
    "|C1234666469-GES_DISC| ML2O3 | 005 | HDFEOS5 | Segmentation Fault\n",
    "|C1215720341-GES_DISC| OMSO2 | 003 | HDFEOS5 | Segmentation Fault\n",
    "|C1215720436-GES_DISC| OMNO2G | 003 | HDFEOS5 | Segmentation Fault\n"
   ]
  },
  {
   "cell_type": "markdown",
   "metadata": {},
   "source": [
    "# ACOS_L2_LITE_FP.9r"
   ]
  },
  {
   "cell_type": "code",
   "execution_count": null,
   "metadata": {},
   "outputs": [],
   "source": [
    "!pwd"
   ]
  },
  {
   "cell_type": "code",
   "execution_count": null,
   "metadata": {
    "scrolled": true
   },
   "outputs": [],
   "source": [
    "forig,finput,foutput = set_fnames('ACOS/ACOS_L2_LITE_FP.9r',\n",
    "                            'acos_LtCO2_150704_v205205_B9213A_200306194522s.nc4',\n",
    "                            'nc4')  \n",
    "\n",
    "bbox = np.asarray(((-180,180),(-90,90)))\n",
    "variables = ['/xco2','/xco2_quality_flag']\n",
    "min_time='2015-07-04T04:00:00Z'\n",
    "max_time='2015-07-04T16:00:00Z'\n",
    "cut = True\n",
    "shapefile = None\n",
    "result = subset(finput, bbox, foutput, variables, cut, shapefile, min_time, max_time)\n",
    "print(result)"
   ]
  },
  {
   "cell_type": "code",
   "execution_count": null,
   "metadata": {},
   "outputs": [],
   "source": []
  },
  {
   "cell_type": "markdown",
   "metadata": {},
   "source": [
    "## <font color=green>Success!</font>"
   ]
  },
  {
   "cell_type": "code",
   "execution_count": null,
   "metadata": {},
   "outputs": [],
   "source": [
    "# Xarray view of time variable in output file -- dates are within specified time range\n",
    "f = xr.open_dataset(foutput)\n",
    "print(f.keys())\n",
    "f['time']"
   ]
  },
  {
   "cell_type": "markdown",
   "metadata": {},
   "source": [
    "## <font color=red>Caveats:<br>- time datatype changed<br>- time metadata altered</font>"
   ]
  },
  {
   "cell_type": "code",
   "execution_count": null,
   "metadata": {
    "scrolled": true
   },
   "outputs": [],
   "source": [
    "# Time Variable (Original File)\n",
    "f = nc4.Dataset(forig,'r')\n",
    "print(f['time'])\n",
    "print('\\n%20.4f \\n%20.4f \\n ... \\n%20.4f' % (f['time'][0], f['time'][1], f['time'][-1]))"
   ]
  },
  {
   "cell_type": "code",
   "execution_count": null,
   "metadata": {},
   "outputs": [],
   "source": [
    "# Time Variable (Subset File)\n",
    "f = nc4.Dataset(foutput,'r')\n",
    "print(f['time'])\n",
    "print('\\n%20.4f \\n%20.4f \\n ... \\n%20.4f' % (f['time'][0], f['time'][1], f['time'][-1]))"
   ]
  },
  {
   "cell_type": "markdown",
   "metadata": {},
   "source": [
    "# OCO2_L2_LITE_FP.10r"
   ]
  },
  {
   "cell_type": "markdown",
   "metadata": {},
   "source": []
  },
  {
   "cell_type": "code",
   "execution_count": null,
   "metadata": {},
   "outputs": [],
   "source": [
    "forig,finput,foutput = set_fnames('OCO2/OCO2_L2_LITE_FP.10r',\n",
    "                            'oco2_LtCO2_190201_B10206Ar_200729175909s.nc4',\n",
    "                            'nc4')  \n",
    "bbox = np.asarray(((-180,-100),(-60,-40)))\n",
    "variables=['/xco2','/xco2_quality_flag','/Retrieval/windspeed']\n",
    "cut = True\n",
    "shapefile = None\n",
    "result = subset(finput, bbox, foutput, variables, cut, shapefile)\n",
    "print(result)"
   ]
  },
  {
   "cell_type": "code",
   "execution_count": null,
   "metadata": {},
   "outputs": [],
   "source": [
    "forig,finput,foutput = set_fnames('OCO2/OCO2_L2_LITE_FP.9r',\n",
    "                            'oco2_LtCO2_160704_B9003r_180927182824s.nc4',\n",
    "                            'nc4')  \n",
    "bbox = np.asarray(((-180,180),(-60,60)))\n",
    "variables=['/xco2','/xco2_quality_flag']\n",
    "cut = True\n",
    "shapefile = None\n",
    "\n",
    "result = subset(finput, bbox, foutput, variables, cut, shapefile)\n",
    "print(result)"
   ]
  },
  {
   "cell_type": "markdown",
   "metadata": {},
   "source": [
    "# OCO3_L2_LITE_SIF.EarlyR"
   ]
  },
  {
   "cell_type": "code",
   "execution_count": null,
   "metadata": {
    "scrolled": true
   },
   "outputs": [],
   "source": [
    "forig,finput,foutput = set_fnames('OCO3/OCO3_L2_LITE_SIF.EarlyR',\n",
    "                                  'oco3_LtSIF_200226_B10206r_200709053505s.nc4',\n",
    "                                  'nc4')  \n",
    "\n",
    "bbox = np.asarray(((-180,180),(-90,90)))\n",
    "variables=['/Science/IGBP_index','/Offset/SIF_Relative_SDev_771nm']\n",
    "cut = True\n",
    "shapefile = None\n",
    "subset(finput, bbox, foutput, variables)"
   ]
  },
  {
   "cell_type": "code",
   "execution_count": 1,
   "metadata": {},
   "outputs": [],
   "source": [
    "import os\n",
    "from podaac.subsetter.subset import subset, transform_grouped_dataset\n",
    "from podaac.subsetter.dimension_cleanup import remove_duplicate_dims\n",
    "from shutil import copy\n",
    "import numpy as np\n",
    "import xarray as xr\n",
    "import netCDF4 as nc4"
   ]
  },
  {
   "cell_type": "code",
   "execution_count": 2,
   "metadata": {},
   "outputs": [],
   "source": [
    "# Copy the original granule for input file and set the output filename in same directory\n",
    "def set_fnames(collection,granule,fmt):\n",
    "    dirname = '/home/nlensse1/Desktop/PyDev/PI22.3.5/l2ss-py/tests/data'\n",
    "    path = dirname + '/' + collection + '/'\n",
    "    forig = path + granule\n",
    "    finput = path + 'input.' + fmt\n",
    "    foutput = path + 'output.' + fmt\n",
    "    copy(forig,finput)\n",
    "    if os.path.isfile(foutput): \n",
    "        os.remove(foutput)\n",
    "    return(forig,finput,foutput)"
   ]
  },
  {
   "cell_type": "code",
   "execution_count": 3,
   "metadata": {},
   "outputs": [
    {
     "name": "stderr",
     "output_type": "stream",
     "text": [
      "/home/nlensse1/anaconda3/envs/h2lss-py/lib/python3.9/site-packages/dask/array/core.py:4601: PerformanceWarning: Increasing number of chunks by factor of 16\n",
      "  result = blockwise(\n"
     ]
    },
    {
     "ename": "MemoryError",
     "evalue": "Unable to allocate 47.2 GiB for an array with shape (500, 24, 88, 500, 24) and data type float32",
     "output_type": "error",
     "traceback": [
      "\u001b[0;31m---------------------------------------------------------------------------\u001b[0m",
      "\u001b[0;31mMemoryError\u001b[0m                               Traceback (most recent call last)",
      "\u001b[0;32m/tmp/ipykernel_131929/4122918259.py\u001b[0m in \u001b[0;36m<module>\u001b[0;34m\u001b[0m\n\u001b[1;32m      6\u001b[0m \u001b[0mvariables\u001b[0m \u001b[0;34m=\u001b[0m \u001b[0;34m[\u001b[0m\u001b[0;34m'/HS/SLV/precipWater'\u001b[0m\u001b[0;34m]\u001b[0m\u001b[0;34m\u001b[0m\u001b[0;34m\u001b[0m\u001b[0m\n\u001b[1;32m      7\u001b[0m \u001b[0;34m\u001b[0m\u001b[0m\n\u001b[0;32m----> 8\u001b[0;31m \u001b[0msubset\u001b[0m\u001b[0;34m(\u001b[0m\u001b[0mfinput\u001b[0m\u001b[0;34m,\u001b[0m\u001b[0mbbox\u001b[0m\u001b[0;34m,\u001b[0m\u001b[0mfoutput\u001b[0m\u001b[0;34m,\u001b[0m \u001b[0mvariables\u001b[0m\u001b[0;34m=\u001b[0m\u001b[0mvariables\u001b[0m\u001b[0;34m)\u001b[0m \u001b[0;31m#, min_time=min_time,max_time=max_time)\u001b[0m\u001b[0;34m\u001b[0m\u001b[0;34m\u001b[0m\u001b[0m\n\u001b[0m",
      "\u001b[0;32m~/Desktop/PyDev/PI22.3.5/l2ss-py/podaac/subsetter/subset.py\u001b[0m in \u001b[0;36msubset\u001b[0;34m(file_to_subset, bbox, output_file, variables, cut, shapefile, min_time, max_time, origin_source, lat_var_names, lon_var_names, time_var_names)\u001b[0m\n\u001b[1;32m   1317\u001b[0m \u001b[0;34m\u001b[0m\u001b[0m\n\u001b[1;32m   1318\u001b[0m         \u001b[0;32mif\u001b[0m \u001b[0mhas_groups\u001b[0m\u001b[0;34m:\u001b[0m\u001b[0;34m\u001b[0m\u001b[0;34m\u001b[0m\u001b[0m\n\u001b[0;32m-> 1319\u001b[0;31m             \u001b[0mrecombine_grouped_datasets\u001b[0m\u001b[0;34m(\u001b[0m\u001b[0mdatasets\u001b[0m\u001b[0;34m,\u001b[0m \u001b[0moutput_file\u001b[0m\u001b[0;34m,\u001b[0m \u001b[0mstart_date\u001b[0m\u001b[0;34m)\u001b[0m\u001b[0;34m\u001b[0m\u001b[0;34m\u001b[0m\u001b[0m\n\u001b[0m\u001b[1;32m   1320\u001b[0m             \u001b[0;31m# Check if the spatial bounds are all 'None'. This means the\u001b[0m\u001b[0;34m\u001b[0m\u001b[0;34m\u001b[0m\u001b[0m\n\u001b[1;32m   1321\u001b[0m             \u001b[0;31m# subset result is empty.\u001b[0m\u001b[0;34m\u001b[0m\u001b[0;34m\u001b[0m\u001b[0m\n",
      "\u001b[0;32m~/Desktop/PyDev/PI22.3.5/l2ss-py/podaac/subsetter/subset.py\u001b[0m in \u001b[0;36mrecombine_grouped_datasets\u001b[0;34m(datasets, output_file, start_date)\u001b[0m\n\u001b[1;32m    981\u001b[0m \u001b[0;34m\u001b[0m\u001b[0m\n\u001b[1;32m    982\u001b[0m         \u001b[0;31m# Rename variables\u001b[0m\u001b[0;34m\u001b[0m\u001b[0;34m\u001b[0m\u001b[0m\n\u001b[0;32m--> 983\u001b[0;31m         \u001b[0m_rename_variables\u001b[0m\u001b[0;34m(\u001b[0m\u001b[0mdataset\u001b[0m\u001b[0;34m,\u001b[0m \u001b[0mbase_dataset\u001b[0m\u001b[0;34m,\u001b[0m \u001b[0mstart_date\u001b[0m\u001b[0;34m)\u001b[0m\u001b[0;34m\u001b[0m\u001b[0;34m\u001b[0m\u001b[0m\n\u001b[0m\u001b[1;32m    984\u001b[0m \u001b[0;34m\u001b[0m\u001b[0m\n\u001b[1;32m    985\u001b[0m     \u001b[0;31m# Remove group vars from base dataset\u001b[0m\u001b[0;34m\u001b[0m\u001b[0;34m\u001b[0m\u001b[0m\n",
      "\u001b[0;32m~/Desktop/PyDev/PI22.3.5/l2ss-py/podaac/subsetter/subset.py\u001b[0m in \u001b[0;36m_rename_variables\u001b[0;34m(dataset, base_dataset, start_date)\u001b[0m\n\u001b[1;32m   1042\u001b[0m         \u001b[0;31m# Copy data\u001b[0m\u001b[0;34m\u001b[0m\u001b[0;34m\u001b[0m\u001b[0m\n\u001b[1;32m   1043\u001b[0m         \u001b[0mvar_group\u001b[0m\u001b[0;34m.\u001b[0m\u001b[0mvariables\u001b[0m\u001b[0;34m[\u001b[0m\u001b[0mnew_var_name\u001b[0m\u001b[0;34m]\u001b[0m\u001b[0;34m.\u001b[0m\u001b[0mset_auto_maskandscale\u001b[0m\u001b[0;34m(\u001b[0m\u001b[0;32mFalse\u001b[0m\u001b[0;34m)\u001b[0m\u001b[0;34m\u001b[0m\u001b[0;34m\u001b[0m\u001b[0m\n\u001b[0;32m-> 1044\u001b[0;31m         \u001b[0mvar_group\u001b[0m\u001b[0;34m.\u001b[0m\u001b[0mvariables\u001b[0m\u001b[0;34m[\u001b[0m\u001b[0mnew_var_name\u001b[0m\u001b[0;34m]\u001b[0m\u001b[0;34m[\u001b[0m\u001b[0;34m:\u001b[0m\u001b[0;34m]\u001b[0m \u001b[0;34m=\u001b[0m \u001b[0mvariable\u001b[0m\u001b[0;34m.\u001b[0m\u001b[0mdata\u001b[0m\u001b[0;34m\u001b[0m\u001b[0;34m\u001b[0m\u001b[0m\n\u001b[0m\u001b[1;32m   1045\u001b[0m \u001b[0;34m\u001b[0m\u001b[0m\n\u001b[1;32m   1046\u001b[0m \u001b[0;34m\u001b[0m\u001b[0m\n",
      "\u001b[0;32msrc/netCDF4/_netCDF4.pyx\u001b[0m in \u001b[0;36mnetCDF4._netCDF4.Variable.__setitem__\u001b[0;34m()\u001b[0m\n",
      "\u001b[0;32m~/anaconda3/envs/h2lss-py/lib/python3.9/site-packages/dask/array/core.py\u001b[0m in \u001b[0;36m__array__\u001b[0;34m(self, dtype, **kwargs)\u001b[0m\n\u001b[1;32m   1624\u001b[0m \u001b[0;34m\u001b[0m\u001b[0m\n\u001b[1;32m   1625\u001b[0m     \u001b[0;32mdef\u001b[0m \u001b[0m__array__\u001b[0m\u001b[0;34m(\u001b[0m\u001b[0mself\u001b[0m\u001b[0;34m,\u001b[0m \u001b[0mdtype\u001b[0m\u001b[0;34m=\u001b[0m\u001b[0;32mNone\u001b[0m\u001b[0;34m,\u001b[0m \u001b[0;34m**\u001b[0m\u001b[0mkwargs\u001b[0m\u001b[0;34m)\u001b[0m\u001b[0;34m:\u001b[0m\u001b[0;34m\u001b[0m\u001b[0;34m\u001b[0m\u001b[0m\n\u001b[0;32m-> 1626\u001b[0;31m         \u001b[0mx\u001b[0m \u001b[0;34m=\u001b[0m \u001b[0mself\u001b[0m\u001b[0;34m.\u001b[0m\u001b[0mcompute\u001b[0m\u001b[0;34m(\u001b[0m\u001b[0;34m)\u001b[0m\u001b[0;34m\u001b[0m\u001b[0;34m\u001b[0m\u001b[0m\n\u001b[0m\u001b[1;32m   1627\u001b[0m         \u001b[0;32mif\u001b[0m \u001b[0mdtype\u001b[0m \u001b[0;32mand\u001b[0m \u001b[0mx\u001b[0m\u001b[0;34m.\u001b[0m\u001b[0mdtype\u001b[0m \u001b[0;34m!=\u001b[0m \u001b[0mdtype\u001b[0m\u001b[0;34m:\u001b[0m\u001b[0;34m\u001b[0m\u001b[0;34m\u001b[0m\u001b[0m\n\u001b[1;32m   1628\u001b[0m             \u001b[0mx\u001b[0m \u001b[0;34m=\u001b[0m \u001b[0mx\u001b[0m\u001b[0;34m.\u001b[0m\u001b[0mastype\u001b[0m\u001b[0;34m(\u001b[0m\u001b[0mdtype\u001b[0m\u001b[0;34m)\u001b[0m\u001b[0;34m\u001b[0m\u001b[0;34m\u001b[0m\u001b[0m\n",
      "\u001b[0;32m~/anaconda3/envs/h2lss-py/lib/python3.9/site-packages/dask/base.py\u001b[0m in \u001b[0;36mcompute\u001b[0;34m(self, **kwargs)\u001b[0m\n\u001b[1;32m    288\u001b[0m         \u001b[0mdask\u001b[0m\u001b[0;34m.\u001b[0m\u001b[0mbase\u001b[0m\u001b[0;34m.\u001b[0m\u001b[0mcompute\u001b[0m\u001b[0;34m\u001b[0m\u001b[0;34m\u001b[0m\u001b[0m\n\u001b[1;32m    289\u001b[0m         \"\"\"\n\u001b[0;32m--> 290\u001b[0;31m         \u001b[0;34m(\u001b[0m\u001b[0mresult\u001b[0m\u001b[0;34m,\u001b[0m\u001b[0;34m)\u001b[0m \u001b[0;34m=\u001b[0m \u001b[0mcompute\u001b[0m\u001b[0;34m(\u001b[0m\u001b[0mself\u001b[0m\u001b[0;34m,\u001b[0m \u001b[0mtraverse\u001b[0m\u001b[0;34m=\u001b[0m\u001b[0;32mFalse\u001b[0m\u001b[0;34m,\u001b[0m \u001b[0;34m**\u001b[0m\u001b[0mkwargs\u001b[0m\u001b[0;34m)\u001b[0m\u001b[0;34m\u001b[0m\u001b[0;34m\u001b[0m\u001b[0m\n\u001b[0m\u001b[1;32m    291\u001b[0m         \u001b[0;32mreturn\u001b[0m \u001b[0mresult\u001b[0m\u001b[0;34m\u001b[0m\u001b[0;34m\u001b[0m\u001b[0m\n\u001b[1;32m    292\u001b[0m \u001b[0;34m\u001b[0m\u001b[0m\n",
      "\u001b[0;32m~/anaconda3/envs/h2lss-py/lib/python3.9/site-packages/dask/base.py\u001b[0m in \u001b[0;36mcompute\u001b[0;34m(traverse, optimize_graph, scheduler, get, *args, **kwargs)\u001b[0m\n\u001b[1;32m    571\u001b[0m         \u001b[0mpostcomputes\u001b[0m\u001b[0;34m.\u001b[0m\u001b[0mappend\u001b[0m\u001b[0;34m(\u001b[0m\u001b[0mx\u001b[0m\u001b[0;34m.\u001b[0m\u001b[0m__dask_postcompute__\u001b[0m\u001b[0;34m(\u001b[0m\u001b[0;34m)\u001b[0m\u001b[0;34m)\u001b[0m\u001b[0;34m\u001b[0m\u001b[0;34m\u001b[0m\u001b[0m\n\u001b[1;32m    572\u001b[0m \u001b[0;34m\u001b[0m\u001b[0m\n\u001b[0;32m--> 573\u001b[0;31m     \u001b[0mresults\u001b[0m \u001b[0;34m=\u001b[0m \u001b[0mschedule\u001b[0m\u001b[0;34m(\u001b[0m\u001b[0mdsk\u001b[0m\u001b[0;34m,\u001b[0m \u001b[0mkeys\u001b[0m\u001b[0;34m,\u001b[0m \u001b[0;34m**\u001b[0m\u001b[0mkwargs\u001b[0m\u001b[0;34m)\u001b[0m\u001b[0;34m\u001b[0m\u001b[0;34m\u001b[0m\u001b[0m\n\u001b[0m\u001b[1;32m    574\u001b[0m     \u001b[0;32mreturn\u001b[0m \u001b[0mrepack\u001b[0m\u001b[0;34m(\u001b[0m\u001b[0;34m[\u001b[0m\u001b[0mf\u001b[0m\u001b[0;34m(\u001b[0m\u001b[0mr\u001b[0m\u001b[0;34m,\u001b[0m \u001b[0;34m*\u001b[0m\u001b[0ma\u001b[0m\u001b[0;34m)\u001b[0m \u001b[0;32mfor\u001b[0m \u001b[0mr\u001b[0m\u001b[0;34m,\u001b[0m \u001b[0;34m(\u001b[0m\u001b[0mf\u001b[0m\u001b[0;34m,\u001b[0m \u001b[0ma\u001b[0m\u001b[0;34m)\u001b[0m \u001b[0;32min\u001b[0m \u001b[0mzip\u001b[0m\u001b[0;34m(\u001b[0m\u001b[0mresults\u001b[0m\u001b[0;34m,\u001b[0m \u001b[0mpostcomputes\u001b[0m\u001b[0;34m)\u001b[0m\u001b[0;34m]\u001b[0m\u001b[0;34m)\u001b[0m\u001b[0;34m\u001b[0m\u001b[0;34m\u001b[0m\u001b[0m\n\u001b[1;32m    575\u001b[0m \u001b[0;34m\u001b[0m\u001b[0m\n",
      "\u001b[0;32m~/anaconda3/envs/h2lss-py/lib/python3.9/site-packages/dask/threaded.py\u001b[0m in \u001b[0;36mget\u001b[0;34m(dsk, result, cache, num_workers, pool, **kwargs)\u001b[0m\n\u001b[1;32m     79\u001b[0m             \u001b[0mpool\u001b[0m \u001b[0;34m=\u001b[0m \u001b[0mMultiprocessingPoolExecutor\u001b[0m\u001b[0;34m(\u001b[0m\u001b[0mpool\u001b[0m\u001b[0;34m)\u001b[0m\u001b[0;34m\u001b[0m\u001b[0;34m\u001b[0m\u001b[0m\n\u001b[1;32m     80\u001b[0m \u001b[0;34m\u001b[0m\u001b[0m\n\u001b[0;32m---> 81\u001b[0;31m     results = get_async(\n\u001b[0m\u001b[1;32m     82\u001b[0m         \u001b[0mpool\u001b[0m\u001b[0;34m.\u001b[0m\u001b[0msubmit\u001b[0m\u001b[0;34m,\u001b[0m\u001b[0;34m\u001b[0m\u001b[0;34m\u001b[0m\u001b[0m\n\u001b[1;32m     83\u001b[0m         \u001b[0mpool\u001b[0m\u001b[0;34m.\u001b[0m\u001b[0m_max_workers\u001b[0m\u001b[0;34m,\u001b[0m\u001b[0;34m\u001b[0m\u001b[0;34m\u001b[0m\u001b[0m\n",
      "\u001b[0;32m~/anaconda3/envs/h2lss-py/lib/python3.9/site-packages/dask/local.py\u001b[0m in \u001b[0;36mget_async\u001b[0;34m(submit, num_workers, dsk, result, cache, get_id, rerun_exceptions_locally, pack_exception, raise_exception, callbacks, dumps, loads, chunksize, **kwargs)\u001b[0m\n\u001b[1;32m    504\u001b[0m                             \u001b[0m_execute_task\u001b[0m\u001b[0;34m(\u001b[0m\u001b[0mtask\u001b[0m\u001b[0;34m,\u001b[0m \u001b[0mdata\u001b[0m\u001b[0;34m)\u001b[0m  \u001b[0;31m# Re-execute locally\u001b[0m\u001b[0;34m\u001b[0m\u001b[0;34m\u001b[0m\u001b[0m\n\u001b[1;32m    505\u001b[0m                         \u001b[0;32melse\u001b[0m\u001b[0;34m:\u001b[0m\u001b[0;34m\u001b[0m\u001b[0;34m\u001b[0m\u001b[0m\n\u001b[0;32m--> 506\u001b[0;31m                             \u001b[0mraise_exception\u001b[0m\u001b[0;34m(\u001b[0m\u001b[0mexc\u001b[0m\u001b[0;34m,\u001b[0m \u001b[0mtb\u001b[0m\u001b[0;34m)\u001b[0m\u001b[0;34m\u001b[0m\u001b[0;34m\u001b[0m\u001b[0m\n\u001b[0m\u001b[1;32m    507\u001b[0m                     \u001b[0mres\u001b[0m\u001b[0;34m,\u001b[0m \u001b[0mworker_id\u001b[0m \u001b[0;34m=\u001b[0m \u001b[0mloads\u001b[0m\u001b[0;34m(\u001b[0m\u001b[0mres_info\u001b[0m\u001b[0;34m)\u001b[0m\u001b[0;34m\u001b[0m\u001b[0;34m\u001b[0m\u001b[0m\n\u001b[1;32m    508\u001b[0m                     \u001b[0mstate\u001b[0m\u001b[0;34m[\u001b[0m\u001b[0;34m\"cache\"\u001b[0m\u001b[0;34m]\u001b[0m\u001b[0;34m[\u001b[0m\u001b[0mkey\u001b[0m\u001b[0;34m]\u001b[0m \u001b[0;34m=\u001b[0m \u001b[0mres\u001b[0m\u001b[0;34m\u001b[0m\u001b[0;34m\u001b[0m\u001b[0m\n",
      "\u001b[0;32m~/anaconda3/envs/h2lss-py/lib/python3.9/site-packages/dask/local.py\u001b[0m in \u001b[0;36mreraise\u001b[0;34m(exc, tb)\u001b[0m\n\u001b[1;32m    312\u001b[0m     \u001b[0;32mif\u001b[0m \u001b[0mexc\u001b[0m\u001b[0;34m.\u001b[0m\u001b[0m__traceback__\u001b[0m \u001b[0;32mis\u001b[0m \u001b[0;32mnot\u001b[0m \u001b[0mtb\u001b[0m\u001b[0;34m:\u001b[0m\u001b[0;34m\u001b[0m\u001b[0;34m\u001b[0m\u001b[0m\n\u001b[1;32m    313\u001b[0m         \u001b[0;32mraise\u001b[0m \u001b[0mexc\u001b[0m\u001b[0;34m.\u001b[0m\u001b[0mwith_traceback\u001b[0m\u001b[0;34m(\u001b[0m\u001b[0mtb\u001b[0m\u001b[0;34m)\u001b[0m\u001b[0;34m\u001b[0m\u001b[0;34m\u001b[0m\u001b[0m\n\u001b[0;32m--> 314\u001b[0;31m     \u001b[0;32mraise\u001b[0m \u001b[0mexc\u001b[0m\u001b[0;34m\u001b[0m\u001b[0;34m\u001b[0m\u001b[0m\n\u001b[0m\u001b[1;32m    315\u001b[0m \u001b[0;34m\u001b[0m\u001b[0m\n\u001b[1;32m    316\u001b[0m \u001b[0;34m\u001b[0m\u001b[0m\n",
      "\u001b[0;32m~/anaconda3/envs/h2lss-py/lib/python3.9/site-packages/dask/local.py\u001b[0m in \u001b[0;36mexecute_task\u001b[0;34m(key, task_info, dumps, loads, get_id, pack_exception)\u001b[0m\n\u001b[1;32m    217\u001b[0m     \u001b[0;32mtry\u001b[0m\u001b[0;34m:\u001b[0m\u001b[0;34m\u001b[0m\u001b[0;34m\u001b[0m\u001b[0m\n\u001b[1;32m    218\u001b[0m         \u001b[0mtask\u001b[0m\u001b[0;34m,\u001b[0m \u001b[0mdata\u001b[0m \u001b[0;34m=\u001b[0m \u001b[0mloads\u001b[0m\u001b[0;34m(\u001b[0m\u001b[0mtask_info\u001b[0m\u001b[0;34m)\u001b[0m\u001b[0;34m\u001b[0m\u001b[0;34m\u001b[0m\u001b[0m\n\u001b[0;32m--> 219\u001b[0;31m         \u001b[0mresult\u001b[0m \u001b[0;34m=\u001b[0m \u001b[0m_execute_task\u001b[0m\u001b[0;34m(\u001b[0m\u001b[0mtask\u001b[0m\u001b[0;34m,\u001b[0m \u001b[0mdata\u001b[0m\u001b[0;34m)\u001b[0m\u001b[0;34m\u001b[0m\u001b[0;34m\u001b[0m\u001b[0m\n\u001b[0m\u001b[1;32m    220\u001b[0m         \u001b[0mid\u001b[0m \u001b[0;34m=\u001b[0m \u001b[0mget_id\u001b[0m\u001b[0;34m(\u001b[0m\u001b[0;34m)\u001b[0m\u001b[0;34m\u001b[0m\u001b[0;34m\u001b[0m\u001b[0m\n\u001b[1;32m    221\u001b[0m         \u001b[0mresult\u001b[0m \u001b[0;34m=\u001b[0m \u001b[0mdumps\u001b[0m\u001b[0;34m(\u001b[0m\u001b[0;34m(\u001b[0m\u001b[0mresult\u001b[0m\u001b[0;34m,\u001b[0m \u001b[0mid\u001b[0m\u001b[0;34m)\u001b[0m\u001b[0;34m)\u001b[0m\u001b[0;34m\u001b[0m\u001b[0;34m\u001b[0m\u001b[0m\n",
      "\u001b[0;32m~/anaconda3/envs/h2lss-py/lib/python3.9/site-packages/dask/core.py\u001b[0m in \u001b[0;36m_execute_task\u001b[0;34m(arg, cache, dsk)\u001b[0m\n\u001b[1;32m    117\u001b[0m         \u001b[0;31m# temporaries by their reference count and can execute certain\u001b[0m\u001b[0;34m\u001b[0m\u001b[0;34m\u001b[0m\u001b[0m\n\u001b[1;32m    118\u001b[0m         \u001b[0;31m# operations in-place.\u001b[0m\u001b[0;34m\u001b[0m\u001b[0;34m\u001b[0m\u001b[0m\n\u001b[0;32m--> 119\u001b[0;31m         \u001b[0;32mreturn\u001b[0m \u001b[0mfunc\u001b[0m\u001b[0;34m(\u001b[0m\u001b[0;34m*\u001b[0m\u001b[0;34m(\u001b[0m\u001b[0m_execute_task\u001b[0m\u001b[0;34m(\u001b[0m\u001b[0ma\u001b[0m\u001b[0;34m,\u001b[0m \u001b[0mcache\u001b[0m\u001b[0;34m)\u001b[0m \u001b[0;32mfor\u001b[0m \u001b[0ma\u001b[0m \u001b[0;32min\u001b[0m \u001b[0margs\u001b[0m\u001b[0;34m)\u001b[0m\u001b[0;34m)\u001b[0m\u001b[0;34m\u001b[0m\u001b[0;34m\u001b[0m\u001b[0m\n\u001b[0m\u001b[1;32m    120\u001b[0m     \u001b[0;32melif\u001b[0m \u001b[0;32mnot\u001b[0m \u001b[0mishashable\u001b[0m\u001b[0;34m(\u001b[0m\u001b[0marg\u001b[0m\u001b[0;34m)\u001b[0m\u001b[0;34m:\u001b[0m\u001b[0;34m\u001b[0m\u001b[0;34m\u001b[0m\u001b[0m\n\u001b[1;32m    121\u001b[0m         \u001b[0;32mreturn\u001b[0m \u001b[0marg\u001b[0m\u001b[0;34m\u001b[0m\u001b[0;34m\u001b[0m\u001b[0m\n",
      "\u001b[0;32m~/anaconda3/envs/h2lss-py/lib/python3.9/site-packages/dask/optimization.py\u001b[0m in \u001b[0;36m__call__\u001b[0;34m(self, *args)\u001b[0m\n\u001b[1;32m    967\u001b[0m         \u001b[0;32mif\u001b[0m \u001b[0;32mnot\u001b[0m \u001b[0mlen\u001b[0m\u001b[0;34m(\u001b[0m\u001b[0margs\u001b[0m\u001b[0;34m)\u001b[0m \u001b[0;34m==\u001b[0m \u001b[0mlen\u001b[0m\u001b[0;34m(\u001b[0m\u001b[0mself\u001b[0m\u001b[0;34m.\u001b[0m\u001b[0minkeys\u001b[0m\u001b[0;34m)\u001b[0m\u001b[0;34m:\u001b[0m\u001b[0;34m\u001b[0m\u001b[0;34m\u001b[0m\u001b[0m\n\u001b[1;32m    968\u001b[0m             \u001b[0;32mraise\u001b[0m \u001b[0mValueError\u001b[0m\u001b[0;34m(\u001b[0m\u001b[0;34m\"Expected %d args, got %d\"\u001b[0m \u001b[0;34m%\u001b[0m \u001b[0;34m(\u001b[0m\u001b[0mlen\u001b[0m\u001b[0;34m(\u001b[0m\u001b[0mself\u001b[0m\u001b[0;34m.\u001b[0m\u001b[0minkeys\u001b[0m\u001b[0;34m)\u001b[0m\u001b[0;34m,\u001b[0m \u001b[0mlen\u001b[0m\u001b[0;34m(\u001b[0m\u001b[0margs\u001b[0m\u001b[0;34m)\u001b[0m\u001b[0;34m)\u001b[0m\u001b[0;34m)\u001b[0m\u001b[0;34m\u001b[0m\u001b[0;34m\u001b[0m\u001b[0m\n\u001b[0;32m--> 969\u001b[0;31m         \u001b[0;32mreturn\u001b[0m \u001b[0mcore\u001b[0m\u001b[0;34m.\u001b[0m\u001b[0mget\u001b[0m\u001b[0;34m(\u001b[0m\u001b[0mself\u001b[0m\u001b[0;34m.\u001b[0m\u001b[0mdsk\u001b[0m\u001b[0;34m,\u001b[0m \u001b[0mself\u001b[0m\u001b[0;34m.\u001b[0m\u001b[0moutkey\u001b[0m\u001b[0;34m,\u001b[0m \u001b[0mdict\u001b[0m\u001b[0;34m(\u001b[0m\u001b[0mzip\u001b[0m\u001b[0;34m(\u001b[0m\u001b[0mself\u001b[0m\u001b[0;34m.\u001b[0m\u001b[0minkeys\u001b[0m\u001b[0;34m,\u001b[0m \u001b[0margs\u001b[0m\u001b[0;34m)\u001b[0m\u001b[0;34m)\u001b[0m\u001b[0;34m)\u001b[0m\u001b[0;34m\u001b[0m\u001b[0;34m\u001b[0m\u001b[0m\n\u001b[0m\u001b[1;32m    970\u001b[0m \u001b[0;34m\u001b[0m\u001b[0m\n\u001b[1;32m    971\u001b[0m     \u001b[0;32mdef\u001b[0m \u001b[0m__reduce__\u001b[0m\u001b[0;34m(\u001b[0m\u001b[0mself\u001b[0m\u001b[0;34m)\u001b[0m\u001b[0;34m:\u001b[0m\u001b[0;34m\u001b[0m\u001b[0;34m\u001b[0m\u001b[0m\n",
      "\u001b[0;32m~/anaconda3/envs/h2lss-py/lib/python3.9/site-packages/dask/core.py\u001b[0m in \u001b[0;36mget\u001b[0;34m(dsk, out, cache)\u001b[0m\n\u001b[1;32m    147\u001b[0m     \u001b[0;32mfor\u001b[0m \u001b[0mkey\u001b[0m \u001b[0;32min\u001b[0m \u001b[0mtoposort\u001b[0m\u001b[0;34m(\u001b[0m\u001b[0mdsk\u001b[0m\u001b[0;34m)\u001b[0m\u001b[0;34m:\u001b[0m\u001b[0;34m\u001b[0m\u001b[0;34m\u001b[0m\u001b[0m\n\u001b[1;32m    148\u001b[0m         \u001b[0mtask\u001b[0m \u001b[0;34m=\u001b[0m \u001b[0mdsk\u001b[0m\u001b[0;34m[\u001b[0m\u001b[0mkey\u001b[0m\u001b[0;34m]\u001b[0m\u001b[0;34m\u001b[0m\u001b[0;34m\u001b[0m\u001b[0m\n\u001b[0;32m--> 149\u001b[0;31m         \u001b[0mresult\u001b[0m \u001b[0;34m=\u001b[0m \u001b[0m_execute_task\u001b[0m\u001b[0;34m(\u001b[0m\u001b[0mtask\u001b[0m\u001b[0;34m,\u001b[0m \u001b[0mcache\u001b[0m\u001b[0;34m)\u001b[0m\u001b[0;34m\u001b[0m\u001b[0;34m\u001b[0m\u001b[0m\n\u001b[0m\u001b[1;32m    150\u001b[0m         \u001b[0mcache\u001b[0m\u001b[0;34m[\u001b[0m\u001b[0mkey\u001b[0m\u001b[0;34m]\u001b[0m \u001b[0;34m=\u001b[0m \u001b[0mresult\u001b[0m\u001b[0;34m\u001b[0m\u001b[0;34m\u001b[0m\u001b[0m\n\u001b[1;32m    151\u001b[0m     \u001b[0mresult\u001b[0m \u001b[0;34m=\u001b[0m \u001b[0m_execute_task\u001b[0m\u001b[0;34m(\u001b[0m\u001b[0mout\u001b[0m\u001b[0;34m,\u001b[0m \u001b[0mcache\u001b[0m\u001b[0;34m)\u001b[0m\u001b[0;34m\u001b[0m\u001b[0;34m\u001b[0m\u001b[0m\n",
      "\u001b[0;32m~/anaconda3/envs/h2lss-py/lib/python3.9/site-packages/dask/core.py\u001b[0m in \u001b[0;36m_execute_task\u001b[0;34m(arg, cache, dsk)\u001b[0m\n\u001b[1;32m    117\u001b[0m         \u001b[0;31m# temporaries by their reference count and can execute certain\u001b[0m\u001b[0;34m\u001b[0m\u001b[0;34m\u001b[0m\u001b[0m\n\u001b[1;32m    118\u001b[0m         \u001b[0;31m# operations in-place.\u001b[0m\u001b[0;34m\u001b[0m\u001b[0;34m\u001b[0m\u001b[0m\n\u001b[0;32m--> 119\u001b[0;31m         \u001b[0;32mreturn\u001b[0m \u001b[0mfunc\u001b[0m\u001b[0;34m(\u001b[0m\u001b[0;34m*\u001b[0m\u001b[0;34m(\u001b[0m\u001b[0m_execute_task\u001b[0m\u001b[0;34m(\u001b[0m\u001b[0ma\u001b[0m\u001b[0;34m,\u001b[0m \u001b[0mcache\u001b[0m\u001b[0;34m)\u001b[0m \u001b[0;32mfor\u001b[0m \u001b[0ma\u001b[0m \u001b[0;32min\u001b[0m \u001b[0margs\u001b[0m\u001b[0;34m)\u001b[0m\u001b[0;34m)\u001b[0m\u001b[0;34m\u001b[0m\u001b[0;34m\u001b[0m\u001b[0m\n\u001b[0m\u001b[1;32m    120\u001b[0m     \u001b[0;32melif\u001b[0m \u001b[0;32mnot\u001b[0m \u001b[0mishashable\u001b[0m\u001b[0;34m(\u001b[0m\u001b[0marg\u001b[0m\u001b[0;34m)\u001b[0m\u001b[0;34m:\u001b[0m\u001b[0;34m\u001b[0m\u001b[0;34m\u001b[0m\u001b[0m\n\u001b[1;32m    121\u001b[0m         \u001b[0;32mreturn\u001b[0m \u001b[0marg\u001b[0m\u001b[0;34m\u001b[0m\u001b[0;34m\u001b[0m\u001b[0m\n",
      "\u001b[0;32m<__array_function__ internals>\u001b[0m in \u001b[0;36mwhere\u001b[0;34m(*args, **kwargs)\u001b[0m\n",
      "\u001b[0;31mMemoryError\u001b[0m: Unable to allocate 47.2 GiB for an array with shape (500, 24, 88, 500, 24) and data type float32"
     ]
    }
   ],
   "source": [
    "forig,finput,foutput = set_fnames('GPM',\n",
    "                                  '2A.GPM.DPR.V9-20211125.20170209-S115357-E132631.016769.V07A.HDF5',\n",
    "                                  'HDF5')  \n",
    "\n",
    "bbox = np.asarray(((-180,180),(-70,70)))\n",
    "variables = ['/HS/SLV/precipWater']\n",
    "\n",
    "subset(finput,bbox,foutput, variables=variables) #, min_time=min_time,max_time=max_time)"
   ]
  },
  {
   "cell_type": "code",
   "execution_count": null,
   "metadata": {},
   "outputs": [],
   "source": [
    "forig,finput,foutput = set_fnames('OMI',\n",
    "                                  'OMI-Aura_L2-OMBRO_2020m0116t1207-o82471_v003-2020m0116t182003.he5',\n",
    "                                  'he5')  \n",
    "\n",
    "bbox = np.asarray(((-180,120),(-30,30)))\n",
    "variables = ['/HDFEOS/SWATHS/OMI Total Column Amount BrO/Data Fields/ColumnAmount',\n",
    "             '/HDFEOS/SWATHS/OMI Total Column Amount BrO/Data Fields/AirMassFactorGeometric']\n",
    "min_time='2020-01-16T12:00:00Z'\n",
    "max_time='2020-01-16T13:00:00Z'\n",
    "subset(finput,bbox,foutput, variables=variables, min_time=min_time,max_time=max_time)"
   ]
  },
  {
   "cell_type": "code",
   "execution_count": null,
   "metadata": {},
   "outputs": [],
   "source": [
    "forig,finput,foutput = set_fnames('OMI',\n",
    "                                  'OMI-Aura_L2-OMSO2_2020m0116t1207-o82471_v003-2020m0223t142939.he5',\n",
    "                                  'he5')  \n",
    "\n",
    "bbox = np.asarray(((-180,120),(-30,30)))\n",
    "variables = ['/HDFEOS/SWATHS/OMI Total Column Amount BrO/Data Fields/ColumnAmount',\n",
    "             '/HDFEOS/SWATHS/OMI Total Column Amount BrO/Data Fields/AirMassFactorGeometric']\n",
    "min_time='2020-01-16T12:00:00Z'\n",
    "max_time='2020-01-16T13:00:00Z'\n",
    "subset(finput,bbox,foutput, variables=variables, min_time=min_time,max_time=max_time)"
   ]
  },
  {
   "cell_type": "code",
   "execution_count": null,
   "metadata": {},
   "outputs": [],
   "source": [
    "forig,finput,foutput = set_fnames('OMI',\n",
    "                                  'OMI-Aura_L2-OMNO2_2020m0222t0414-o83005_v003-2020m0611t113719.he5',\n",
    "                                  'he5')  \n",
    "\n",
    "bbox = np.asarray(((-180,120),(-30,30)))\n",
    "variables = ['/HDFEOS/SWATHS/ColumnAmountNO2/Data Fields/MeasurementQualityFlags',\n",
    "             '/HDFEOS/SWATHS/ColumnAmountNO2/Data Fields/ColumnAmountNO2']\n",
    "min_time='2020-01-16T12:00:00Z'\n",
    "max_time='2020-03-16T13:00:00Z'\n",
    "subset(finput,bbox,foutput, variables=variables, min_time=min_time,max_time=max_time)"
   ]
  },
  {
   "cell_type": "code",
   "execution_count": null,
   "metadata": {},
   "outputs": [],
   "source": [
    "import netCDF4 as nc\n",
    "import numpy as np\n",
    "\n",
    "data = nc.Dataset('tests/data/OMI/output.he5')\n",
    "print (data.groups['HDFEOS'].groups['SWATHS'].groups['ColumnAmountNO2'].groups['Geolocation Fields'].variables['Time'])\n"
   ]
  },
  {
   "cell_type": "code",
   "execution_count": null,
   "metadata": {},
   "outputs": [],
   "source": [
    "forig,finput,foutput = set_fnames('tropomi',\n",
    "                                  'S5P_OFFL_L2__CH4____20190311T101655_20190311T115825_07293_01_010202_20190317T121015.nc',\n",
    "                                  'nc4')  \n",
    "\n",
    "bbox = np.asarray(((-180,120),(-30,30)))\n",
    "variables = ['/HDFEOS/SWATHS/OMI Total Column Amount SO2/Data Fields/ColumnAmountSO2',\n",
    "             '/HDFEOS/SWATHS/OMI Total Column Amount SO2/Data Fields/ColumnAmountO3']\n",
    "min_time='2019-03-19T04:00:00Z'\n",
    "max_time='2021-03-19T10:00:00Z'\n",
    "subset(finput,bbox,foutput)"
   ]
  },
  {
   "cell_type": "code",
   "execution_count": null,
   "metadata": {},
   "outputs": [],
   "source": [
    "forig,finput,foutput = set_fnames('SNDR',\n",
    "                                  'SNDR.SNPP.CRIMSS.20200118T0024.m06.g005.L2_CLIMCAPS_RET.std.v02_28.G.200314032326.nc',\n",
    "                                  'nc4')  \n",
    "bbox = np.asarray(((-180,180),(-90,90)))\n",
    "variables = ['/ave_kern/air_temp_ave_kern']\n",
    "subset(finput,bbox,foutput, variables)\n"
   ]
  },
  {
   "cell_type": "markdown",
   "metadata": {},
   "source": [
    "# <font color=\"blue\">CLIMCAPS:</font> SNDRSNIML2CCPRET.2 "
   ]
  },
  {
   "cell_type": "code",
   "execution_count": null,
   "metadata": {},
   "outputs": [],
   "source": [
    "forig,finput,foutput = set_fnames('SNDR',\n",
    "                                  'SNDR.SNPP.CRIMSS.20210321T0048.m06.g009.L2_CLIMCAPS_RET.std.v02_28.G.210504212845.nc',\n",
    "                                  'nc')  \n",
    "bbox = np.asarray(((-180,180),(-90,90)))\n",
    "variables = ['/surf_temp']\n",
    "print (finput)\n",
    "min_time='2021-03-21T00:48:20Z'\n",
    "max_time='2021-03-21T00:48:40Z'\n",
    "subset(finput,bbox,foutput, variables=variables, min_time=min_time,max_time=max_time)"
   ]
  },
  {
   "cell_type": "code",
   "execution_count": null,
   "metadata": {},
   "outputs": [],
   "source": [
    "forig,finput,foutput = set_fnames('SNDR',\n",
    "                                  'SNDR.J1.CRIMSS.20210224T0100.m06.g011.L2_CLIMCAPS_RET.std.v02_28.G.210331064430.nc',\n",
    "                                  'nc')  \n",
    "bbox = np.asarray(((-180,180),(-90,90)))\n",
    "variables = ['/surf_temp']\n",
    "print (finput)\n",
    "min_time='2021-02-24T00:00:20Z'\n",
    "max_time='2021-02-24T01:08:55Z'\n",
    "subset(finput,bbox,foutput,min_time=min_time,max_time=max_time)"
   ]
  },
  {
   "cell_type": "markdown",
   "metadata": {},
   "source": [
    "# <font color=green>TROPOMI:</font> S5P_L2__SO2____HiR.2"
   ]
  },
  {
   "cell_type": "code",
   "execution_count": null,
   "metadata": {},
   "outputs": [],
   "source": [
    "import os\n",
    "from podaac.subsetter.subset import subset\n",
    "from shutil import copy\n",
    "import numpy as np\n",
    "import xarray as xr\n",
    "import netCDF4 as nc4"
   ]
  },
  {
   "cell_type": "code",
   "execution_count": null,
   "metadata": {},
   "outputs": [],
   "source": [
    "# Copy the original granule for input file and set the output filename in same directory\n",
    "def set_fnames(collection,granule,fmt):\n",
    "    dirname = '/home/nlensse1/Desktop/PyDev/PI22.1/l2ss-py/tests/data'\n",
    "    path = dirname + '/' + collection + '/'\n",
    "    forig = path + granule\n",
    "    finput = path + 'input.' + fmt\n",
    "    foutput = path + 'output.' + fmt\n",
    "    copy(forig,finput)\n",
    "    if os.path.isfile(foutput): \n",
    "        os.remove(foutput)\n",
    "    return(forig,finput,foutput)"
   ]
  },
  {
   "cell_type": "code",
   "execution_count": null,
   "metadata": {},
   "outputs": [],
   "source": [
    "forig,finput,foutput = set_fnames('tropomi',\n",
    "                                  'S5P_OFFL_L2__CH4____20190319T110835_20190319T125006_07407_01_010202_20190325T125810_subset.nc4',\n",
    "                                  'nc4')  \n",
    "\n",
    "bbox = np.asarray(((-180,180),(-90,90)))\n",
    "variables = ['/PRODUCT/sulfurdioxide_total_vertical_column','/PRODUCT/qa_value']\n",
    "min_time='2019-03-19T04:00:00Z'\n",
    "max_time='2019-03-19T12:00:00Z'\n",
    "subset(finput,bbox,foutput, min_time=min_time, max_time=max_time)"
   ]
  },
  {
   "cell_type": "code",
   "execution_count": null,
   "metadata": {},
   "outputs": [],
   "source": [
    "forig,finput,foutput = set_fnames('tropomi',\n",
    "                                  'S5P_OFFL_L2__CH4____20190319T110835_20190319T125006_07407_01_010202_20190325T125810.nc',\n",
    "                                  'nc4')  \n",
    "\n",
    "bbox = np.asarray(((-180,180),(-90,90)))\n",
    "variables = ['/PRODUCT/sulfurdioxide_total_vertical_column','/PRODUCT/qa_value']\n",
    "min_time='2019-03-19T04:00:00Z'\n",
    "max_time='2019-03-19T11:50:00Z'\n",
    "subset(finput,bbox,foutput, min_time=min_time, max_time=max_time)"
   ]
  },
  {
   "cell_type": "code",
   "execution_count": null,
   "metadata": {},
   "outputs": [],
   "source": [
    "forig,finput,foutput = set_fnames('sentinel_6',\n",
    "                                  'S6A_P4_2__LR_STD__ST_002_140_20201207T011501_20201207T013023_F00.nc',\n",
    "                                  'nc')\n",
    "\n",
    "print (finput)\n",
    "\n"
   ]
  },
  {
   "cell_type": "code",
   "execution_count": null,
   "metadata": {},
   "outputs": [],
   "source": [
    "forig,finput,foutput = set_fnames('sentinel_6',\n",
    "                                  'S6A_P4_2__LR_STD__ST_002_140_20201207T011501_20201207T013023_F00.nc',\n",
    "                                  'nc')  \n",
    "\n",
    "bbox = np.asarray(((-180,180),(-90,90)))\n",
    "variables = ['/data_01/ku/range_ocean_mle3_rms', '/data_20/ku/range_ocean']\n",
    "subset(finput,bbox,foutput, variables)"
   ]
  },
  {
   "cell_type": "markdown",
   "metadata": {},
   "source": [
    "['__data_01__time']\n",
    "<class 'netCDF4._netCDF4.Group'>\n",
    "group /data_01:\n",
    "    dimensions(sizes): time(923)\n",
    "    variables(dimensions): \n",
    "    groups: ku\n",
    "rename\n",
    "('__data_01__time',)\n",
    "('__data_01__time',)\n",
    "('__data_01__time',)\n",
    "('__data_01__time',)\n",
    "['__data_20__c__time']\n",
    "<class 'netCDF4._netCDF4.Group'>\n",
    "group /data_20/c:\n",
    "    dimensions(sizes): time(18531)\n",
    "    variables(dimensions): \n",
    "    groups: \n",
    "rename\n",
    "('__data_20__c__time',)\n",
    "('__data_20__c__time',)\n",
    "('__data_20__c__time',)\n",
    "['__data_20__ku__time']\n",
    "<class 'netCDF4._netCDF4.Group'>\n",
    "group /data_20/ku:\n",
    "    dimensions(sizes): time(18531)\n",
    "    variables(dimensions): \n",
    "    groups: \n",
    "rename\n",
    "('__data_20__ku__time',)\n",
    "('__data_20__ku__time',)\n",
    "('__data_20__ku__time',)"
   ]
  },
  {
   "cell_type": "markdown",
   "metadata": {},
   "source": [
    "<xarray.Dataset>\n",
    "Dimensions:                              (__data_01__time: 923, __data_20__c__time: 18531, __data_20__ku__time: 18531)\n",
    "Coordinates:\n",
    "  * __data_01__time                      (__data_01__time) float64 6.606e+08 ...\n",
    "  * __data_20__c__time                   (__data_20__c__time) float64 6.606e+...\n",
    "  * __data_20__ku__time                  (__data_20__ku__time) float64 6.606e...\n",
    "Data variables:\n",
    "    __data_01__latitude                  (__data_01__time) int32 dask.array<chunksize=(923,), meta=np.ndarray>\n",
    "    __data_01__longitude                 (__data_01__time) int32 dask.array<chunksize=(923,), meta=np.ndarray>\n",
    "    __data_01__ku__range_ocean_mle3_rms  (__data_01__time) int16 dask.array<chunksize=(923,), meta=np.ndarray>\n",
    "    __data_20__c__latitude               (__data_20__c__time, __data_01__time) int32 dask.array<chunksize=(4000, 923), meta=np.ndarray>\n",
    "    __data_20__c__longitude              (__data_20__c__time, __data_01__time) int32 dask.array<chunksize=(4000, 923), meta=np.ndarray>\n",
    "    __data_20__ku__latitude              (__data_20__ku__time, __data_01__time) int32 dask.array<chunksize=(4000, 923), meta=np.ndarray>\n",
    "    __data_20__ku__longitude             (__data_20__ku__time, __data_01__time) int32 dask.array<chunksize=(4000, 923), meta=np.ndarray>\n",
    "Attributes: (12/64)\n",
    "    Convention:                             CF-1.7\n",
    "    institution:                            EUMETSAT\n",
    "    references:                             Sentinel-6_Jason-CS ALT Generic P...\n",
    "    contact:                                ops@eumetsat.int\n",
    "    radiometer_sensor_name:                 AMR-C\n",
    "    doris_sensor_name:                      DORIS\n",
    "    ...                                     ...\n",
    "    xref_sea_state_bias:                    S6A_P4_2__SSBL_AX_20151008T000000...\n",
    "    xref_solid_earth_tide:                  S6__P4_2__SETD_AX_20151008T000000...\n",
    "    xref_surface_classification:            S6__P4____SURF_AX_20151008T000000...\n",
    "    xref_wind_speed_alt:                    S6A_P4_2__WNDL_AX_20151008T000000...\n",
    "    product_name:                           S6A_P4_2__LR______20201207T011501...\n",
    "    history_json:                           [{\"date_time\": \"2021-12-16T21:41:...\n",
    "['__data_01__time', '__data_20__c__time', '__data_20__ku__time']\n",
    "<class 'netCDF4._netCDF4.Group'>\n",
    "group /data_01:\n",
    "    dimensions(sizes): time(923)\n",
    "    variables(dimensions): \n",
    "    groups: ku\n",
    "<class 'netCDF4._netCDF4.Group'>\n",
    "group /data_20/c:\n",
    "    dimensions(sizes): time(18531)\n",
    "    variables(dimensions): \n",
    "    groups: \n",
    "<class 'netCDF4._netCDF4.Group'>\n",
    "group /data_20/ku:\n",
    "    dimensions(sizes): time(18531)\n",
    "    variables(dimensions): \n",
    "    groups: \n",
    "rename\n",
    "('__data_01__time',)\n",
    "('__data_01__time',)\n",
    "('__data_01__time',)\n",
    "('__data_20__c__time', '__data_01__time')"
   ]
  },
  {
   "cell_type": "code",
   "execution_count": null,
   "metadata": {},
   "outputs": [],
   "source": []
  }
 ],
 "metadata": {
  "kernelspec": {
   "display_name": "Python 3 (ipykernel)",
   "language": "python",
   "name": "python3"
  },
  "language_info": {
   "codemirror_mode": {
    "name": "ipython",
    "version": 3
   },
   "file_extension": ".py",
   "mimetype": "text/x-python",
   "name": "python",
   "nbconvert_exporter": "python",
   "pygments_lexer": "ipython3",
   "version": "3.9.7"
  }
 },
 "nbformat": 4,
 "nbformat_minor": 4
}
