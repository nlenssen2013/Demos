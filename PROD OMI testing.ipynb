{
 "cells": [
  {
   "cell_type": "code",
   "execution_count": 6,
   "id": "949859ab",
   "metadata": {},
   "outputs": [],
   "source": [
    "import datetime as dt\n",
    "from IPython.display import display, JSON\n",
    "from harmony import BBox, Client, Collection, Request\n",
    "from harmony.config import Environment\n",
    "import os\n",
    "import netCDF4 as nc4\n",
    "import numpy as np\n",
    "import xarray as xr\n",
    "import tranform_he5"
   ]
  },
  {
   "cell_type": "code",
   "execution_count": 7,
   "id": "e54902f2",
   "metadata": {},
   "outputs": [],
   "source": [
    "def harmony_request_UAT(my_id, boundingbox, variables, my_start, my_stop):\n",
    "    harmony_client = Client(env=Environment.PROD)\n",
    "    collection = Collection(id=my_id)\n",
    "\n",
    "    request = Request(\n",
    "        collection=collection,\n",
    "        spatial=BBox(boundingbox[0],boundingbox[1],boundingbox[2],boundingbox[3]),\n",
    "        temporal = {\n",
    "           'start': my_start,\n",
    "           'stop' : my_stop\n",
    "        },\n",
    "        variables = variables,\n",
    "        max_results=1\n",
    "    )\n",
    "    job_id = harmony_client.submit(request)\n",
    "    myURL = 'https://harmony.uat.earthdata.nasa.gov/jobs/'+job_id\n",
    "    print (myURL)\n",
    "    harmony_client.wait_for_processing(job_id, show_progress=True)\n",
    "    results = harmony_client.download_all(job_id, directory='tests/data', overwrite=True)\n",
    "    file_names = [f.result() for f in results]\n",
    "    print (file_names)\n",
    "    return file_names[0]"
   ]
  },
  {
   "cell_type": "code",
   "execution_count": 13,
   "id": "642393af",
   "metadata": {},
   "outputs": [],
   "source": [
    "def harmony_request_UAT_novars(my_id, boundingbox, variables, my_start, my_stop):\n",
    "    harmony_client = Client(env=Environment.PROD)\n",
    "    collection = Collection(id=my_id)\n",
    "\n",
    "    request = Request(\n",
    "        collection=collection,\n",
    "        spatial=BBox(boundingbox[0],boundingbox[1],boundingbox[2],boundingbox[3]),\n",
    "        temporal = {\n",
    "           'start': my_start,\n",
    "           'stop' : my_stop\n",
    "        },\n",
    "        max_results=1\n",
    "    )\n",
    "    job_id = harmony_client.submit(request)\n",
    "    myURL = 'https://harmony.uat.earthdata.nasa.gov/jobs/'+job_id\n",
    "    print (myURL)\n",
    "    harmony_client.wait_for_processing(job_id, show_progress=True)\n",
    "    results = harmony_client.download_all(job_id, directory='tests/data', overwrite=True)\n",
    "    file_names = [f.result() for f in results]\n",
    "    print (file_names)\n",
    "    return file_names[0]"
   ]
  },
  {
   "cell_type": "code",
   "execution_count": 4,
   "id": "b92cf42e",
   "metadata": {},
   "outputs": [
    {
     "name": "stdout",
     "output_type": "stream",
     "text": [
      "https://harmony.uat.earthdata.nasa.gov/jobs/1d3721da-7db4-4bc6-803c-9f365948d8d3\n"
     ]
    },
    {
     "name": "stderr",
     "output_type": "stream",
     "text": [
      " [ Processing: 100% ] |###################################################| [|]\n"
     ]
    },
    {
     "name": "stdout",
     "output_type": "stream",
     "text": [
      "['tests/data/OMI-Aura_L2-OMSO2_2022m0110t1900-o93033_v003-2022m0111t140400_subsetted.nc4']\n"
     ]
    }
   ],
   "source": [
    "test_file = harmony_request_UAT('C1239966837-GES_DISC', (-180,-90,180,90), ['/HDFEOS/SWATHS/OMI Total Column Amount SO2/Data Fields/ColumnAmountO3',\n",
    "                                                                            '/HDFEOS/SWATHS/OMI Total Column Amount SO2/Data Fields/ColumnAmountSO2'], \n",
    "                                            dt.datetime(2022,1,10,19,20), dt.datetime(2022,1,10,21,30))"
   ]
  },
  {
   "cell_type": "code",
   "execution_count": 8,
   "id": "a4266588",
   "metadata": {},
   "outputs": [
    {
     "name": "stdout",
     "output_type": "stream",
     "text": [
      "https://harmony.uat.earthdata.nasa.gov/jobs/6b85afc4-e8fd-4d63-a9a2-f8c79591a40b\n"
     ]
    },
    {
     "name": "stderr",
     "output_type": "stream",
     "text": [
      " [ Processing: 100% ] |###################################################| [|]\n"
     ]
    },
    {
     "name": "stdout",
     "output_type": "stream",
     "text": [
      "['tests/data/OMI-Aura_L2-OMNO2_2022m0110t1900-o93033_v003-2022m0331t001504_subsetted.nc4']\n"
     ]
    }
   ],
   "source": [
    "test_file = harmony_request_UAT('C1239966842-GES_DISC', (-180,-90,180,90), ['/HDFEOS/SWATHS/ColumnAmountNO2/Data Fields/CloudFraction',\n",
    "                                                                            '/HDFEOS/SWATHS/ColumnAmountNO2/Data Fields/MeasurementQualityFlags'], \n",
    "                                            dt.datetime(2022,1,10,19,20), dt.datetime(2022,1,10,21,30))"
   ]
  },
  {
   "cell_type": "code",
   "execution_count": 9,
   "id": "353698bf",
   "metadata": {},
   "outputs": [
    {
     "name": "stdout",
     "output_type": "stream",
     "text": [
      "https://harmony.uat.earthdata.nasa.gov/jobs/64ef9284-1626-40ee-beb0-339b318a0f66\n"
     ]
    },
    {
     "name": "stderr",
     "output_type": "stream",
     "text": [
      " [ Processing: 100% ] |###################################################| [|]\n"
     ]
    },
    {
     "name": "stdout",
     "output_type": "stream",
     "text": [
      "['tests/data/OMI-Aura_L2-OMNO2_2022m0110t1900-o93033_v003-2022m0331t001504_subsetted.nc4']\n"
     ]
    }
   ],
   "source": [
    "test_file = harmony_request_UAT('C1239966842-GES_DISC', (-180,-90,180,90), ['/HDFEOS/SWATHS/ColumnAmountNO2/Data Fields/CloudFraction',\n",
    "                                                                            '/HDFEOS/SWATHS/ColumnAmountNO2/Data Fields/MeasurementQualityFlags'], \n",
    "                                            dt.datetime(2022,1,10,19,20), dt.datetime(2022,1,10,19,50))"
   ]
  },
  {
   "cell_type": "code",
   "execution_count": 10,
   "id": "e979c62a",
   "metadata": {},
   "outputs": [
    {
     "name": "stdout",
     "output_type": "stream",
     "text": [
      "https://harmony.uat.earthdata.nasa.gov/jobs/1e91bc7c-9401-47db-ac58-208866e072a5\n"
     ]
    },
    {
     "name": "stderr",
     "output_type": "stream",
     "text": [
      " [ Processing: 100% ] |###################################################| [|]\n"
     ]
    },
    {
     "name": "stdout",
     "output_type": "stream",
     "text": [
      "['tests/data/OMI-Aura_L2-OMNO2_2022m0110t1900-o93033_v003-2022m0331t001504_subsetted.nc4']\n"
     ]
    }
   ],
   "source": [
    "test_file = harmony_request_UAT('C1239966842-GES_DISC', (-180,-75,180,90), ['/HDFEOS/SWATHS/ColumnAmountNO2/Data Fields/CloudFraction',\n",
    "                                                                            '/HDFEOS/SWATHS/ColumnAmountNO2/Data Fields/MeasurementQualityFlags'], \n",
    "                                            dt.datetime(2022,1,10,19,20), dt.datetime(2022,1,10,19,50))"
   ]
  },
  {
   "cell_type": "code",
   "execution_count": 12,
   "id": "9910f011",
   "metadata": {},
   "outputs": [
    {
     "name": "stdout",
     "output_type": "stream",
     "text": [
      "https://harmony.uat.earthdata.nasa.gov/jobs/98093881-a8b1-4159-9c0b-71d94201e818\n"
     ]
    },
    {
     "name": "stderr",
     "output_type": "stream",
     "text": [
      " [ Processing: 100% ] |###################################################| [|]\n"
     ]
    },
    {
     "name": "stdout",
     "output_type": "stream",
     "text": [
      "['tests/data/SNDR.J1.CRIMSS.20180217T0000.m06.g001.L2_CLIMCAPS_RET.std.v02_28.G.200221153452_surf_temp_subsetted.nc4']\n"
     ]
    }
   ],
   "source": [
    "test_file = harmony_request_UAT('C1692982090-GES_DISC', (-180,20,180,30),['/surf_temp'],\n",
    "                                                                   dt.datetime(2016,12,12,1,6), dt.datetime(2018,12,12,1,10))"
   ]
  },
  {
   "cell_type": "code",
   "execution_count": 14,
   "id": "c0161460",
   "metadata": {},
   "outputs": [
    {
     "name": "stdout",
     "output_type": "stream",
     "text": [
      "https://harmony.uat.earthdata.nasa.gov/jobs/692ae04d-3956-4d73-8bdd-7b7fdff937a6\n"
     ]
    },
    {
     "name": "stderr",
     "output_type": "stream",
     "text": [
      " [ Processing: 100% ] |###################################################| [|]\n"
     ]
    },
    {
     "name": "stdout",
     "output_type": "stream",
     "text": [
      "['tests/data/SNDR.J1.CRIMSS.20180217T0000.m06.g001.L2_CLIMCAPS_RET.std.v02_28.G.200221153452_subsetted.nc4']\n"
     ]
    }
   ],
   "source": [
    "test_file = harmony_request_UAT_novars('C1692982090-GES_DISC', (-180,20,180,30),['/surf_temp'],\n",
    "                                                                   dt.datetime(2016,12,12,1,6), dt.datetime(2018,12,12,1,10))"
   ]
  },
  {
   "cell_type": "code",
   "execution_count": null,
   "id": "a9415085",
   "metadata": {},
   "outputs": [],
   "source": []
  }
 ],
 "metadata": {
  "kernelspec": {
   "display_name": "harmony-py",
   "language": "python",
   "name": "harmony-py"
  },
  "language_info": {
   "codemirror_mode": {
    "name": "ipython",
    "version": 3
   },
   "file_extension": ".py",
   "mimetype": "text/x-python",
   "name": "python",
   "nbconvert_exporter": "python",
   "pygments_lexer": "ipython3",
   "version": "3.8.5"
  }
 },
 "nbformat": 4,
 "nbformat_minor": 5
}
